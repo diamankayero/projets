{
  "cells": [
    {
      "cell_type": "markdown",
      "metadata": {},
      "source": [
        "---\n",
        "title: \"Statistique descriptive bivariée\"\n",
        "format:\n",
        "  html:\n",
        "    code-fold: true\n",
        "jupyter: python3\n",
        "---\n",
        "\n",
        "\n",
        "## Le but de ce TP est de de s'entraîner à explorer les liaisons entre deux variables.\n",
        "\n",
        "### - Importations de bibliothèques"
      ],
      "id": "b7bc7343"
    },
    {
      "cell_type": "code",
      "metadata": {},
      "source": [
        "import numpy as np\n",
        "import pandas as pd\n",
        "import matplotlib.pyplot as plt\n",
        "import seaborn as sns\n",
        "from sklearn.linear_model import LinearRegression "
      ],
      "id": "c0110d73",
      "execution_count": null,
      "outputs": []
    },
    {
      "cell_type": "markdown",
      "metadata": {},
      "source": [
        "## 1 - Régression linéaire à la main\n",
        "\n",
        "Le jeu de données gag.csv contient l'âge (en année) et une mesure de concentration en glycosaminoglycane (gag) dans l'urine pour une population d'enfants de 0 à 17 ans.\n",
        "\n",
        "### 1 - Importer le jeu de donnée\n"
      ],
      "id": "0ddcb4bc"
    },
    {
      "cell_type": "code",
      "metadata": {},
      "source": [
        "gag = pd.read_csv('gag.csv')"
      ],
      "id": "0fd7bea3",
      "execution_count": null,
      "outputs": []
    },
    {
      "cell_type": "markdown",
      "metadata": {},
      "source": [
        "### 2 - Combien y a-t-il d'individus dans ce jeu de données ?\n",
        "\n",
        "Dimensions du data frame\n"
      ],
      "id": "af40246c"
    },
    {
      "cell_type": "code",
      "metadata": {},
      "source": [
        "gag.shape"
      ],
      "id": "b85d0455",
      "execution_count": null,
      "outputs": []
    },
    {
      "cell_type": "markdown",
      "metadata": {},
      "source": [
        "Il y a 314 individus (lignes).\n",
        "\n",
        "### 3 - Quel est l'âge moyen des individus ? Quel est leur âge médian ?\n"
      ],
      "id": "9668874b"
    },
    {
      "cell_type": "code",
      "metadata": {},
      "source": [
        "gag.describe()"
      ],
      "id": "ab8dd798",
      "execution_count": null,
      "outputs": []
    },
    {
      "cell_type": "markdown",
      "metadata": {},
      "source": [
        "L'âge moyen est 5.28 ans, l'âge médian 4.10 ans.\n",
        "\n",
        "### 3 - Tracer la boîte à moustaches de l'âge.\n"
      ],
      "id": "18710b19"
    },
    {
      "cell_type": "code",
      "metadata": {},
      "source": [
        "fig, ax=plt.subplots()\n",
        "ax.boxplot(gag.Age)\n",
        "fig.suptitle('Boxplot des âges')"
      ],
      "id": "a87ac066",
      "execution_count": null,
      "outputs": []
    },
    {
      "cell_type": "markdown",
      "metadata": {},
      "source": [
        "### 4 - Quel est la concentration moyenne en gag ? Quel est la concentration médiane ?\n"
      ],
      "id": "a53bc393"
    },
    {
      "cell_type": "code",
      "metadata": {},
      "source": [
        "gag.describe()"
      ],
      "id": "fa7bc1d6",
      "execution_count": null,
      "outputs": []
    },
    {
      "cell_type": "markdown",
      "metadata": {},
      "source": [
        "La concentration moyenne est de 13.17, la concentration médiane de 10.6.\n",
        "\n",
        "### 5 - Tracer la boîte à moustaches de la concentration de gag.\n"
      ],
      "id": "ea15d8e4"
    },
    {
      "cell_type": "code",
      "metadata": {},
      "source": [
        "fig, ax=plt.subplots()\n",
        "ax.boxplot(gag.GAG)\n",
        "fig.suptitle('Boxplot de la concentration de gag')"
      ],
      "id": "506d4b81",
      "execution_count": null,
      "outputs": []
    },
    {
      "cell_type": "markdown",
      "metadata": {},
      "source": [
        "### 6 - Tracer le nuage de points de la concentration de gag en fonction de l'âge.\n"
      ],
      "id": "f65c369d"
    },
    {
      "cell_type": "code",
      "metadata": {},
      "source": [
        "fig, ax=plt.subplots()\n",
        "ax.scatter(gag.Age, gag.GAG, edgecolors='k')\n",
        "ax.set_xlabel('âge')\n",
        "ax.set_ylabel('concentration de gag')"
      ],
      "id": "5c8505b9",
      "execution_count": null,
      "outputs": []
    },
    {
      "cell_type": "markdown",
      "metadata": {},
      "source": [
        "### 7 - Semble-t-il y avoir une relation linéaire entre les variables ?\n",
        "\n",
        "Il semble y avoir une liaison décroissante forte, mais pas vraiment linéaire.\n",
        "\n",
        "### 8 - Calculer les coefficients de la droite de régression de la concentration de gag en fonction de l'âge. \n",
        "\n",
        "On rappelle que la droite de régression de $y$ par rapport à $x$ est la droite d'équation $y = \\beta_0 +\\beta_1 x$ avec \n",
        "\n",
        "$$\n",
        "   \\beta_0 = \\bar{y}-\\beta_1 \\bar{x} \\text{,} \\quad \\beta_1 = \\frac{C(x,y)}{V(x)}.\n",
        "$$\n"
      ],
      "id": "d1d62643"
    },
    {
      "cell_type": "code",
      "metadata": {},
      "source": [
        "C = np.cov(gag.Age, gag.GAG)\n",
        "b1 = C[0][1]/C[0][0]\n",
        "b0 = np.mean(gag.GAG)-b1*np.mean(gag.Age)\n",
        "print(b0,b1)"
      ],
      "id": "e6269998",
      "execution_count": null,
      "outputs": []
    },
    {
      "cell_type": "markdown",
      "metadata": {},
      "source": [
        "### 9 - Ajoutez la droite de régression sur votre nuage de points.\n"
      ],
      "id": "cb71fbcf"
    },
    {
      "cell_type": "code",
      "metadata": {},
      "source": [
        "fig, ax=plt.subplots()\n",
        "ax.scatter(gag.Age, gag.GAG, edgecolors='k')\n",
        "ax.plot(gag.Age,b0+b1*gag.Age, color='r')\n",
        "ax.set_xlabel('âge')\n",
        "ax.set_ylabel('concentration de gag')"
      ],
      "id": "b4cb9bd1",
      "execution_count": null,
      "outputs": []
    },
    {
      "cell_type": "markdown",
      "metadata": {},
      "source": [
        "### 10 - L'ajustement linéaire est-il visuellement satisfaisant ?\n",
        "\n",
        "Il semble acceptable pour les valeurs loin de 0, mais très mauvais pour les toutes petites valeurs.\n",
        "\n",
        "### 11 - Calculez le coefficient de détermination\n",
        "\n",
        "$$\n",
        " R^2 = \\frac{SC_reg}{SC_tot} = \\frac{variation expliquée}{variation totale}.\n",
        " $$\n",
        "On rappelle que pour la régression de $y$ par rapport à $x$, on a \n",
        "$$\n",
        "SC_{tot}=\\sum_{k=1}^n(y_k-\\overline y)^2=nV(y),\\quad SC_{reg}=\\sum_{k=1}^n(\\hat y_k-\\overline y)^2,\n",
        "$$\n",
        "avec $\\hat y_k = \\beta_0 + \\beta_1 x_k$. On rappelle également que le coefficient de détermination est égal au coefficient de corrélation au carré.\n"
      ],
      "id": "f0e71525"
    },
    {
      "cell_type": "code",
      "metadata": {},
      "source": [
        "gag.corr()"
      ],
      "id": "dc56df08",
      "execution_count": null,
      "outputs": []
    },
    {
      "cell_type": "code",
      "metadata": {},
      "source": [
        "gag.corr()**2"
      ],
      "id": "f18c7d39",
      "execution_count": null,
      "outputs": []
    },
    {
      "cell_type": "markdown",
      "metadata": {},
      "source": [
        "On trouve qu'un peu moins de 50% de la variabilité de la concentration en gag est expliquée par la régression.\n",
        "\n",
        "Avec un calcul direct\n"
      ],
      "id": "d374c76d"
    },
    {
      "cell_type": "code",
      "metadata": {},
      "source": [
        "# somme des carres totale \n",
        "SCtot = len(gag.GAG)*np.var(gag.GAG)\n",
        "# residus\n",
        "gagchap = b0+b1*gag.Age\n",
        "# somme des carres expliquee\n",
        "SCreg = sum((gagchap-np.mean(gag.GAG))**2)\n",
        "# R2\n",
        "R2 = SCreg/SCtot\n",
        "print(R2)"
      ],
      "id": "fb9c8236",
      "execution_count": null,
      "outputs": []
    },
    {
      "cell_type": "markdown",
      "metadata": {},
      "source": [
        "On trouve bien sûr la même chose.\n",
        "\n",
        "### 12 - L'ajustement linéaire est-il satisfaisant ?\n",
        "\n",
        "Non car moins de 50% de la variabilité est expliquée par la régression.\n",
        "\n",
        "### 13 - Utiliser la droite de régression pour prédire la concentration de gag à 18 ans. Qu'en pensez-vous ?\n",
        "\n",
        "On prédit une valeur négative, ce qui est incohérent. Ceci est dû au mauvais ajustement de la droite de régression.\n",
        "\n",
        "## 2 - Régression non linéaire à la main\n",
        "\n",
        "Pour améliorer la qualité de l'ajustement, on peut faire une transformation des données. La visualisation du nuage de points aide à deviner une forme adaptée.\n",
        "\n",
        "On continue à travailler sur le jeu de données gag.csv.\n",
        "\n",
        "### 1 - Créer un vecteur lgag égal au logarithme de la concentration en gag.\n"
      ],
      "id": "dabbe5a6"
    },
    {
      "cell_type": "code",
      "metadata": {},
      "source": [
        "lgag = np.log(gag.GAG)"
      ],
      "id": "794402b0",
      "execution_count": null,
      "outputs": []
    },
    {
      "cell_type": "markdown",
      "metadata": {},
      "source": [
        "### 2 - Tracer le nuage de points du logarithme de la concentration de gag en fonction de l'âge.\n"
      ],
      "id": "6ae101b7"
    },
    {
      "cell_type": "code",
      "metadata": {},
      "source": [
        "fig, ax=plt.subplots()\n",
        "ax.scatter(gag.Age, lgag, edgecolors='k')\n",
        "ax.set_xlabel('âge')\n",
        "ax.set_ylabel('log de la concentration de gag')"
      ],
      "id": "3f6f5d93",
      "execution_count": null,
      "outputs": []
    },
    {
      "cell_type": "markdown",
      "metadata": {},
      "source": [
        "### 3 - Calculer les coefficients de la droite de régression du logarithme de la concentration de gag en fonction de l'âge.\n"
      ],
      "id": "a1db862a"
    },
    {
      "cell_type": "code",
      "metadata": {},
      "source": [
        "C = np.cov(gag.Age, lgag)\n",
        "b1 = C[0][1]/C[0][0]\n",
        "b0 = np.mean(lgag)-b1*np.mean(gag.Age)\n",
        "print(b0,b1)"
      ],
      "id": "dc41e8c6",
      "execution_count": null,
      "outputs": []
    },
    {
      "cell_type": "markdown",
      "metadata": {},
      "source": [
        "### 4 - Ajoutez la droite de régression sur votre nuage de points.\n"
      ],
      "id": "893eaf33"
    },
    {
      "cell_type": "code",
      "metadata": {},
      "source": [
        "fig, ax=plt.subplots()\n",
        "ax.scatter(gag.Age, lgag, edgecolors='k')\n",
        "ax.plot(gag.Age,b0+b1*gag.Age, color='r')\n",
        "ax.set_xlabel('âge')\n",
        "ax.set_ylabel('log de la concentration de gag')"
      ],
      "id": "47e9cb5c",
      "execution_count": null,
      "outputs": []
    },
    {
      "cell_type": "markdown",
      "metadata": {},
      "source": [
        "### 5 - Evaluer la qualité de l'ajustement linéaire.\n",
        "\n",
        "Calculons le coefficient de détermination\n"
      ],
      "id": "3741524f"
    },
    {
      "cell_type": "code",
      "metadata": {},
      "source": [
        "# somme des carres totale \n",
        "SCtot = len(lgag)*np.var(lgag)\n",
        "# residus\n",
        "gagchap = b0+b1*gag.Age\n",
        "# somme des carres expliquee\n",
        "SCreg = sum((gagchap-np.mean(lgag))**2)\n",
        "# R2\n",
        "R2 = SCreg/SCtot\n",
        "print(R2)"
      ],
      "id": "f3a3250d",
      "execution_count": null,
      "outputs": []
    },
    {
      "cell_type": "markdown",
      "metadata": {},
      "source": [
        "On trouve maintenant que 72% de la variabilité est expliquée par la régression. C'est beaucoup mieux.\n",
        "\n",
        "### 6 - Quelle est alors la relation entre l'âge et le logarithme de la concentration de gag fournie par cette droite ? La représenter graphiquement.\n",
        "\n",
        "On a $\\log(\\text{gag})=\\beta_0+\\beta_1 \\text{age}$ ce qui est équivalent à $\\text{gag}=\\exp(\\beta_0+\\beta_1 \\text{age})$.\n"
      ],
      "id": "f6c23bc5"
    },
    {
      "cell_type": "code",
      "metadata": {},
      "source": [
        "fig, ax=plt.subplots()\n",
        "ax.scatter(gag.Age, gag.GAG, edgecolors='k')\n",
        "ax.plot(gag.Age,np.exp(b0+b1*gag.Age), color='r')\n",
        "ax.set_xlabel('âge')\n",
        "ax.set_ylabel('concentration de gag')"
      ],
      "id": "f1571b00",
      "execution_count": null,
      "outputs": []
    },
    {
      "cell_type": "markdown",
      "metadata": {},
      "source": [
        "### 7 - Utiliser cette relation pour prédire la concentration de gag à 18 ans.\n"
      ],
      "id": "4c0a26a8"
    },
    {
      "cell_type": "code",
      "metadata": {},
      "source": [
        "np.exp(b0+b1*18)"
      ],
      "id": "872b2d53",
      "execution_count": null,
      "outputs": []
    }
  ],
  "metadata": {
    "kernelspec": {
      "name": "python3",
      "language": "python",
      "display_name": "Python 3 (ipykernel)",
      "path": "C:\\Users\\Admin\\AppData\\Local\\Packages\\PythonSoftwareFoundation.Python.3.12_qbz5n2kfra8p0\\LocalCache\\local-packages\\share\\jupyter\\kernels\\python3"
    }
  },
  "nbformat": 4,
  "nbformat_minor": 5
}